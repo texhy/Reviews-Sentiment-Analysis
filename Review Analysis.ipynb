{
 "cells": [
  {
   "cell_type": "code",
   "execution_count": null,
   "metadata": {},
   "outputs": [],
   "source": [
    "def scrollSlowly(driver):\n",
    "    driver.execute_script(\"window.scrollTo(0, 500);\")\n",
    "    time.sleep(1)\n",
    "    driver.execute_script(\"window.scrollTo(500, 800);\")\n",
    "    time.sleep(1)\n",
    "    driver.execute_script(\"window.scrollTo(800, 1000);\")\n",
    "    time.sleep(2)\n",
    "    driver.execute_script(\"window.scrollTo(1000, 1300);\")\n",
    "    time.sleep(2)\n",
    "    driver.execute_script(\"window.scrollTo(1300, 1600);\")\n",
    "    time.sleep(1)\n",
    "    "
   ]
  },
  {
   "cell_type": "code",
   "execution_count": null,
   "metadata": {},
   "outputs": [],
   "source": [
    "import nltk \n",
    "temp = dict()\n",
    "temp['Name'] = []\n",
    "temp['Review text'] = []\n",
    "\n",
    "driver.get('https://www.daraz.pk/products/redmi-12c-671-inch-display-4gb-ram-i425222112-s2014006595.html?spm=a2a0e.searchlist.sku.2.547b7a5aLl1JoT&search=1')\n",
    "scrollSlowly(driver)\n",
    "for page in range(0,10):\n",
    "    try:\n",
    "        reviews_container = driver.find_element(By.XPATH, '//*[@id=\"module_product_review\"]/div/div/div[3]/div[1]')\n",
    "    except NoSuchElementException:\n",
    "        print('No Reviews')\n",
    "        break\n",
    "    reviews = reviews_container.find_elements(By.CLASS_NAME,'item')\n",
    "    \n",
    "    for i in range(len(reviews)):\n",
    "        if reviews[i].find_element(By.CSS_SELECTOR, f\"#module_product_review > div > div > div:nth-child(3) > div.mod-reviews > div:nth-child({i+1}) > div.item-content > div.content\").text != '':\n",
    "            temp['Name'].append(reviews[i].find_element(By.CLASS_NAME,'middle').find_element(By.TAG_NAME,'span').text[3:])\n",
    "            temp['Review text'].append(reviews[i].find_element(By.CSS_SELECTOR, f\"#module_product_review > div > div > div:nth-child(3) > div.mod-reviews > div:nth-child({i+1}) > div.item-content > div.content\").text)\n",
    "        \n",
    "    try:\n",
    "        if(page != 2):\n",
    "            nxt_button = driver.find_element(By.XPATH, '//*[@id=\"module_product_review\"]/div/div/div[3]/div[2]/div/button[2]')\n",
    "            driver.execute_script(\"arguments[0].click();\", nxt_button)\n",
    "            time.sleep(5)\n",
    "    except NoSuchElementException:\n",
    "        print('No More Pages')\n",
    "        break"
   ]
  },
  {
   "cell_type": "code",
   "execution_count": null,
   "metadata": {},
   "outputs": [],
   "source": [
    "from nltk.corpus import stopwords\n",
    "#storing all reviews list:\n",
    "with open(r\"C:\\Users\\mhass\\Desktop\\3rd Semester\\Programming with AI\\A6\\pos.txt\", 'r', encoding='utf-8') as posfile:\n",
    "    content = posfile.read()\n",
    "    pos_toks = nltk.sent_tokenize(content)\n",
    "\n",
    "with open(r\"C:\\Users\\mhass\\Desktop\\3rd Semester\\Programming with AI\\A6\\neg.txt\", 'r', encoding='utf-8') as negfile:\n",
    "    content = negfile.read()\n",
    "    neg_toks = nltk.sent_tokenize(content)\n",
    "\n",
    "english_neg_pos = pd.read_excel(r\"C:\\Users\\mhass\\Desktop\\3rd Semester\\Programming with AI\\A6\\Positive and Negative Word List.xlsx\")\n",
    "cleaned_english=english_neg_pos.drop(columns='Unnamed: 0').dropna()    \n",
    "negative_english = cleaned_english['Negative Sense Word List']\n",
    "positive_english = cleaned_english['Positive Sense Word List']\n",
    "def getNegWords():\n",
    "    cleaned = neg_toks[0].split(\"\\n\")\n",
    "    allPosWords = []\n",
    "    for idx, word in enumerate(cleaned):\n",
    "        word = word.split(':')\n",
    "        allPosWords.append(word[1])\n",
    "    return allPosWords\n",
    "\n",
    "def getPostWords():\n",
    "    cleaned = pos_toks[0].split(\"\\n\")\n",
    "    allPosWords = []\n",
    "    for idx, word in enumerate(cleaned):\n",
    "        word = word.split(':')\n",
    "        allPosWords.append(word[1])\n",
    "    return allPosWords"
   ]
  },
  {
   "cell_type": "code",
   "execution_count": null,
   "metadata": {},
   "outputs": [],
   "source": [
    "allPosWords = getPostWords()\n",
    "for word in positive_english:\n",
    "    allPosWords.append(word)\n",
    "    \n",
    "allNegWords = getNegWords()\n",
    "for word in negative_english:\n",
    "    allNegWords.append(word)"
   ]
  },
  {
   "cell_type": "code",
   "execution_count": null,
   "metadata": {},
   "outputs": [],
   "source": [
    "#cleaning the reviews\n",
    "import string\n",
    "def cleanReviews(allreviews):\n",
    "    reviews = reviewDF\n",
    "    cleaned_revs = []\n",
    "    reviews = []\n",
    "    for review in allreviews:\n",
    "        for rev_word in nltk.word_tokenize(review):\n",
    "            if rev_word.lower() not in stopwords.words('english') and rev_word.lower() not in string.punctuation:\n",
    "                cleaned_revs.append(rev_word)\n",
    "        reviews.append(cleaned_revs)\n",
    "    return reviews\n",
    "                "
   ]
  },
  {
   "cell_type": "code",
   "execution_count": null,
   "metadata": {},
   "outputs": [],
   "source": [
    "cleaned_revs = cleanReviews(reviewsDF['Review text'])\n",
    "cleaned_revs"
   ]
  },
  {
   "cell_type": "code",
   "execution_count": null,
   "metadata": {},
   "outputs": [],
   "source": [
    "def GetSentiment(revs):\n",
    "    pos = 0\n",
    "    neg = 0\n",
    "    list_sent = []\n",
    "    for review in revs:\n",
    "        for review_word in review:\n",
    "            if review_word in allPosWords:\n",
    "                pos += 1\n",
    "            elif review_word in allNegWords:\n",
    "                neg += 1\n",
    "        if pos > neg:\n",
    "            list_sent.append('Positive')\n",
    "        else:\n",
    "            list_sent.append('Negative')\n",
    "    return list_sent\n",
    "        "
   ]
  },
  {
   "cell_type": "code",
   "execution_count": null,
   "metadata": {},
   "outputs": [],
   "source": [
    "reviewsDF['Analysis']=GetSentiment(cleaned_revs)"
   ]
  },
  {
   "cell_type": "code",
   "execution_count": null,
   "metadata": {},
   "outputs": [],
   "source": [
    "reviewsDF"
   ]
  }
 ],
 "metadata": {
  "language_info": {
   "name": "python"
  }
 },
 "nbformat": 4,
 "nbformat_minor": 2
}
